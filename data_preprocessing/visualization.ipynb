{
 "cells": [
  {
   "cell_type": "code",
   "execution_count": null,
   "id": "eda-cell",
   "metadata": {},
   "outputs": [],
   "source": [
    "import pandas as pd\n",
    "import matplotlib.pyplot as plt\n",
    "import seaborn as sns\n",
    "\n",
    "# Load processed data\n",
    "df = pd.read_csv('processed_data.csv')\n",
    "print(df.head())\n",
    "\n",
    "# Plot histogram for a numeric feature (adjust 'price' as needed)\n",
    "sns.histplot(df['price'], bins=30)\n",
    "plt.title('Price Distribution')\n",
    "plt.show()"
   ]
  }
 ],
 "metadata": {
  "kernelspec": {
   "display_name": "Python 3",
   "language": "python",
   "name": "python3"
  },
  "language_info": {
   "name": "python"
  }
 },
 "nbformat": 4,
 "nbformat_minor": 5
}
